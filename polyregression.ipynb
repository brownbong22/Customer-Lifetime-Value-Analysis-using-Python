{
  "nbformat": 4,
  "nbformat_minor": 0,
  "metadata": {
    "colab": {
      "provenance": [],
      "authorship_tag": "ABX9TyOxMF4duQOlAPQTonbF3AIL",
      "include_colab_link": true
    },
    "kernelspec": {
      "name": "python3",
      "display_name": "Python 3"
    },
    "language_info": {
      "name": "python"
    }
  },
  "cells": [
    {
      "cell_type": "markdown",
      "metadata": {
        "id": "view-in-github",
        "colab_type": "text"
      },
      "source": [
        "<a href=\"https://colab.research.google.com/github/brownbong22/Customer-Lifetime-Value-Analysis-using-Python/blob/main/polyregression.ipynb\" target=\"_parent\"><img src=\"https://colab.research.google.com/assets/colab-badge.svg\" alt=\"Open In Colab\"/></a>"
      ]
    },
    {
      "cell_type": "code",
      "execution_count": 7,
      "metadata": {
        "id": "SVCKIgUQectS"
      },
      "outputs": [],
      "source": [
        "import numpy as np\n",
        "import pandas as pd\n",
        "import matplotlib.pyplot as plt\n",
        "%matplotlib inline\n"
      ]
    },
    {
      "cell_type": "code",
      "source": [
        "X = 6 * np.random.rand(100, 1) - 3\n",
        "y =0.5 * X**2 + 1.5*X + 2 + np.random.randn(100, 1)\n",
        "# quadratic equation used- y=0.5x^2+1.5x+2+outliers\n",
        "plt.scatter(X,y,color='g')\n",
        "plt.xlabel('X dataset')\n",
        "plt.ylabel('Y dataset')"
      ],
      "metadata": {
        "colab": {
          "base_uri": "https://localhost:8080/",
          "height": 466
        },
        "id": "i5whYShsfTHR",
        "outputId": "53c4b4cf-7454-4773-bd14-fb84a3ac28ae"
      },
      "execution_count": 12,
      "outputs": [
        {
          "output_type": "execute_result",
          "data": {
            "text/plain": [
              "Text(0, 0.5, 'Y dataset')"
            ]
          },
          "metadata": {},
          "execution_count": 12
        },
        {
          "output_type": "display_data",
          "data": {
            "text/plain": [
              "<Figure size 640x480 with 1 Axes>"
            ],
            "image/png": "[encoded data removed]"
          },
          "metadata": {}
        }
      ]
    },
    {
      "cell_type": "code",
      "source": [
        "from sklearn.model_selection import train_test_split\n",
        "X_train,X_test,y_train,y_test=train_test_split(X,y,test_size=0.2,random_state=42)"
      ],
      "metadata": {
        "id": "9Zpacoo7gVOZ"
      },
      "execution_count": 13,
      "outputs": []
    },
    {
      "cell_type": "code",
      "source": [
        "## Lets implement Simple Linear Regression\n",
        "from sklearn.linear_model import LinearRegression\n",
        "regression_1=LinearRegression()"
      ],
      "metadata": {
        "id": "fGAXrhE7iBqj"
      },
      "execution_count": 15,
      "outputs": []
    },
    {
      "cell_type": "code",
      "source": [
        "\n",
        "\n",
        "regression_1.fit(X_train,y_train)\n",
        "\n"
      ],
      "metadata": {
        "colab": {
          "base_uri": "https://localhost:8080/",
          "height": 74
        },
        "id": "imOLvkFKiGLV",
        "outputId": "87efe0ff-ea45-4b5b-b855-fe2d5874803a"
      },
      "execution_count": 16,
      "outputs": [
        {
          "output_type": "execute_result",
          "data": {
            "text/plain": [
              "LinearRegression()"
            ],
            "text/html": [
              "<style>#sk-container-id-1 {color: black;background-color: white;}#sk-container-id-1 pre{padding: 0;}#sk-container-id-1 div.sk-toggleable {background-color: white;}#sk-container-id-1 label.sk-toggleable__label {cursor: pointer;display: block;width: 100%;margin-bottom: 0;padding: 0.3em;box-sizing: border-box;text-align: center;}#sk-container-id-1 label.sk-toggleable__label-arrow:before {content: \"▸\";float: left;margin-right: 0.25em;color: #696969;}#sk-container-id-1 label.sk-toggleable__label-arrow:hover:before {color: black;}#sk-container-id-1 div.sk-estimator:hover label.sk-toggleable__label-arrow:before {color: black;}#sk-container-id-1 div.sk-toggleable__content {max-height: 0;max-width: 0;overflow: hidden;text-align: left;background-color: #f0f8ff;}#sk-container-id-1 div.sk-toggleable__content pre {margin: 0.2em;color: black;border-radius: 0.25em;background-color: #f0f8ff;}#sk-container-id-1 input.sk-toggleable__control:checked~div.sk-toggleable__content {max-height: 200px;max-width: 100%;overflow: auto;}#sk-container-id-1 input.sk-toggleable__control:checked~label.sk-toggleable__label-arrow:before {content: \"▾\";}#sk-container-id-1 div.sk-estimator input.sk-toggleable__control:checked~label.sk-toggleable__label {background-color: #d4ebff;}#sk-container-id-1 div.sk-label input.sk-toggleable__control:checked~label.sk-toggleable__label {background-color: #d4ebff;}#sk-container-id-1 input.sk-hidden--visually {border: 0;clip: rect(1px 1px 1px 1px);clip: rect(1px, 1px, 1px, 1px);height: 1px;margin: -1px;overflow: hidden;padding: 0;position: absolute;width: 1px;}#sk-container-id-1 div.sk-estimator {font-family: monospace;background-color: #f0f8ff;border: 1px dotted black;border-radius: 0.25em;box-sizing: border-box;margin-bottom: 0.5em;}#sk-container-id-1 div.sk-estimator:hover {background-color: #d4ebff;}#sk-container-id-1 div.sk-parallel-item::after {content: \"\";width: 100%;border-bottom: 1px solid gray;flex-grow: 1;}#sk-container-id-1 div.sk-label:hover label.sk-toggleable__label {background-color: #d4ebff;}#sk-container-id-1 div.sk-serial::before {content: \"\";position: absolute;border-left: 1px solid gray;box-sizing: border-box;top: 0;bottom: 0;left: 50%;z-index: 0;}#sk-container-id-1 div.sk-serial {display: flex;flex-direction: column;align-items: center;background-color: white;padding-right: 0.2em;padding-left: 0.2em;position: relative;}#sk-container-id-1 div.sk-item {position: relative;z-index: 1;}#sk-container-id-1 div.sk-parallel {display: flex;align-items: stretch;justify-content: center;background-color: white;position: relative;}#sk-container-id-1 div.sk-item::before, #sk-container-id-1 div.sk-parallel-item::before {content: \"\";position: absolute;border-left: 1px solid gray;box-sizing: border-box;top: 0;bottom: 0;left: 50%;z-index: -1;}#sk-container-id-1 div.sk-parallel-item {display: flex;flex-direction: column;z-index: 1;position: relative;background-color: white;}#sk-container-id-1 div.sk-parallel-item:first-child::after {align-self: flex-end;width: 50%;}#sk-container-id-1 div.sk-parallel-item:last-child::after {align-self: flex-start;width: 50%;}#sk-container-id-1 div.sk-parallel-item:only-child::after {width: 0;}#sk-container-id-1 div.sk-dashed-wrapped {border: 1px dashed gray;margin: 0 0.4em 0.5em 0.4em;box-sizing: border-box;padding-bottom: 0.4em;background-color: white;}#sk-container-id-1 div.sk-label label {font-family: monospace;font-weight: bold;display: inline-block;line-height: 1.2em;}#sk-container-id-1 div.sk-label-container {text-align: center;}#sk-container-id-1 div.sk-container {/* jupyter's `normalize.less` sets `[hidden] { display: none; }` but bootstrap.min.css set `[hidden] { display: none !important; }` so we also need the `!important` here to be able to override the default hidden behavior on the sphinx rendered scikit-learn.org. See: https://github.com/scikit-learn/scikit-learn/issues/21755 */display: inline-block !important;position: relative;}#sk-container-id-1 div.sk-text-repr-fallback {display: none;}</style><div id=\"sk-container-id-1\" class=\"sk-top-container\"><div class=\"sk-text-repr-fallback\"><pre>LinearRegression()</pre><b>In a Jupyter environment, please rerun this cell to show the HTML representation or trust the notebook. <br />On GitHub, the HTML representation is unable to render, please try loading this page with nbviewer.org.</b></div><div class=\"sk-container\" hidden><div class=\"sk-item\"><div class=\"sk-estimator sk-toggleable\"><input class=\"sk-toggleable__control sk-hidden--visually\" id=\"sk-estimator-id-1\" type=\"checkbox\" checked><label for=\"sk-estimator-id-1\" class=\"sk-toggleable__label sk-toggleable__label-arrow\">LinearRegression</label><div class=\"sk-toggleable__content\"><pre>LinearRegression()</pre></div></div></div></div></div>"
            ]
          },
          "metadata": {},
          "execution_count": 16
        }
      ]
    },
    {
      "cell_type": "code",
      "source": [
        "\n",
        "from sklearn.metrics import r2_score\n",
        "score=r2_score(y_test,regression_1.predict(X_test))\n",
        "print(score)\n"
      ],
      "metadata": {
        "colab": {
          "base_uri": "https://localhost:8080/"
        },
        "id": "i29NHzcLiI42",
        "outputId": "ff6bc00a-40d5-435d-bc6f-490e0c1f5852"
      },
      "execution_count": 18,
      "outputs": [
        {
          "output_type": "stream",
          "name": "stdout",
          "text": [
            "0.8085546105878092\n"
          ]
        }
      ]
    },
    {
      "cell_type": "code",
      "source": [
        "## Lets visualize this model\n",
        "plt.plot(X_train,regression_1.predict(X_train),color='r')\n",
        "plt.scatter(X_train,y_train)\n",
        "plt.xlabel(\"X Dataset\")\n",
        "plt.ylabel(\"Y\")"
      ],
      "metadata": {
        "colab": {
          "base_uri": "https://localhost:8080/",
          "height": 466
        },
        "id": "RTimCtfCiNHL",
        "outputId": "bc88c731-79d5-4659-cf90-df0a9cf27611"
      },
      "execution_count": 19,
      "outputs": [
        {
          "output_type": "execute_result",
          "data": {
            "text/plain": [
              "Text(0, 0.5, 'Y')"
            ]
          },
          "metadata": {},
          "execution_count": 19
        },
        {
          "output_type": "display_data",
          "data": {
            "text/plain": [
              "<Figure size 640x480 with 1 Axes>"
            ],
            "image/png": "[encoded data removed]"
          },
          "metadata": {}
        }
      ]
    },
    {
      "cell_type": "code",
      "source": [
        "#LEts apply polynomial transformation\n",
        "from sklearn.preprocessing import PolynomialFeatures"
      ],
      "metadata": {
        "id": "2OUpM1l3iVxn"
      },
      "execution_count": 20,
      "outputs": []
    },
    {
      "cell_type": "code",
      "source": [
        "\n",
        "\n",
        "poly=PolynomialFeatures(degree=2,include_bias=True)\n",
        "X_train_poly=poly.fit_transform(X_train)\n",
        "X_test_poly=poly.transform(X_test)\n",
        "\n"
      ],
      "metadata": {
        "id": "a_oyjYSMidh6"
      },
      "execution_count": 22,
      "outputs": []
    },
    {
      "cell_type": "code",
      "source": [
        "\n",
        "\n",
        "X_train_poly\n",
        "\n"
      ],
      "metadata": {
        "colab": {
          "base_uri": "https://localhost:8080/"
        },
        "id": "IuRR2QdJigQn",
        "outputId": "d7c752e8-14c4-4060-803d-2abf06a6939c"
      },
      "execution_count": 23,
      "outputs": [
        {
          "output_type": "execute_result",
          "data": {
            "text/plain": [
              "array([[ 1.00000000e+00, -2.47987777e+00,  6.14979375e+00],\n",
              "       [ 1.00000000e+00,  1.81690196e+00,  3.30113274e+00],\n",
              "       [ 1.00000000e+00,  9.91300278e-01,  9.82676241e-01],\n",
              "       [ 1.00000000e+00,  7.96937704e-01,  6.35109704e-01],\n",
              "       [ 1.00000000e+00,  1.14007838e+00,  1.29977871e+00],\n",
              "       [ 1.00000000e+00, -1.91297661e+00,  3.65947949e+00],\n",
              "       [ 1.00000000e+00, -2.74715196e+00,  7.54684388e+00],\n",
              "       [ 1.00000000e+00,  1.23143509e+00,  1.51643239e+00],\n",
              "       [ 1.00000000e+00, -1.67334389e+00,  2.80007977e+00],\n",
              "       [ 1.00000000e+00, -1.59360682e+00,  2.53958269e+00],\n",
              "       [ 1.00000000e+00,  1.88006792e+00,  3.53465537e+00],\n",
              "       [ 1.00000000e+00, -1.75386028e+00,  3.07602587e+00],\n",
              "       [ 1.00000000e+00, -2.30373090e+00,  5.30717605e+00],\n",
              "       [ 1.00000000e+00, -1.95850494e+00,  3.83574159e+00],\n",
              "       [ 1.00000000e+00,  2.69796729e-01,  7.27902751e-02],\n",
              "       [ 1.00000000e+00, -2.74026944e+00,  7.50907662e+00],\n",
              "       [ 1.00000000e+00,  7.96837363e-01,  6.34949783e-01],\n",
              "       [ 1.00000000e+00,  3.91492769e-01,  1.53266588e-01],\n",
              "       [ 1.00000000e+00,  2.76083244e+00,  7.62219573e+00],\n",
              "       [ 1.00000000e+00, -2.00762278e+00,  4.03054922e+00],\n",
              "       [ 1.00000000e+00,  2.84869761e+00,  8.11507809e+00],\n",
              "       [ 1.00000000e+00,  2.20212545e+00,  4.84935651e+00],\n",
              "       [ 1.00000000e+00,  5.91509948e-01,  3.49884019e-01],\n",
              "       [ 1.00000000e+00, -1.69366787e+00,  2.86851084e+00],\n",
              "       [ 1.00000000e+00,  2.39544671e+00,  5.73816495e+00],\n",
              "       [ 1.00000000e+00,  1.43473778e+00,  2.05847249e+00],\n",
              "       [ 1.00000000e+00,  2.53461849e+00,  6.42429091e+00],\n",
              "       [ 1.00000000e+00, -4.98448628e-01,  2.48451034e-01],\n",
              "       [ 1.00000000e+00,  2.52890727e+00,  6.39537198e+00],\n",
              "       [ 1.00000000e+00, -1.82175949e+00,  3.31880764e+00],\n",
              "       [ 1.00000000e+00, -2.30564738e-01,  5.31600984e-02],\n",
              "       [ 1.00000000e+00, -2.82431002e+00,  7.97672707e+00],\n",
              "       [ 1.00000000e+00,  5.73788359e-01,  3.29233081e-01],\n",
              "       [ 1.00000000e+00, -9.07230268e-02,  8.23066758e-03],\n",
              "       [ 1.00000000e+00, -4.26026877e-01,  1.81498900e-01],\n",
              "       [ 1.00000000e+00,  1.57798332e+00,  2.49003136e+00],\n",
              "       [ 1.00000000e+00,  4.96291736e-01,  2.46305487e-01],\n",
              "       [ 1.00000000e+00, -2.39502233e+00,  5.73613195e+00],\n",
              "       [ 1.00000000e+00, -1.15716430e+00,  1.33902921e+00],\n",
              "       [ 1.00000000e+00,  2.16816190e+00,  4.70092603e+00],\n",
              "       [ 1.00000000e+00, -1.49419140e+00,  2.23260794e+00],\n",
              "       [ 1.00000000e+00,  1.26068786e+00,  1.58933389e+00],\n",
              "       [ 1.00000000e+00, -2.11653106e-01,  4.47970371e-02],\n",
              "       [ 1.00000000e+00,  1.41648385e+00,  2.00642649e+00],\n",
              "       [ 1.00000000e+00,  1.34201540e+00,  1.80100533e+00],\n",
              "       [ 1.00000000e+00, -3.63019883e-01,  1.31783435e-01],\n",
              "       [ 1.00000000e+00, -1.16704765e+00,  1.36200021e+00],\n",
              "       [ 1.00000000e+00,  2.95282515e+00,  8.71917634e+00],\n",
              "       [ 1.00000000e+00,  1.86704077e-01,  3.48584125e-02],\n",
              "       [ 1.00000000e+00,  5.06925320e-01,  2.56973280e-01],\n",
              "       [ 1.00000000e+00, -2.47378792e+00,  6.11962665e+00],\n",
              "       [ 1.00000000e+00, -1.86374969e+00,  3.47356290e+00],\n",
              "       [ 1.00000000e+00, -2.91227576e+00,  8.48135008e+00],\n",
              "       [ 1.00000000e+00,  1.99657290e+00,  3.98630334e+00],\n",
              "       [ 1.00000000e+00,  1.67218989e+00,  2.79621903e+00],\n",
              "       [ 1.00000000e+00,  1.38245914e+00,  1.91119329e+00],\n",
              "       [ 1.00000000e+00,  2.56055045e+00,  6.55641862e+00],\n",
              "       [ 1.00000000e+00,  9.88236488e-02,  9.76611357e-03],\n",
              "       [ 1.00000000e+00, -1.48465291e+00,  2.20419426e+00],\n",
              "       [ 1.00000000e+00, -1.01060870e+00,  1.02132994e+00],\n",
              "       [ 1.00000000e+00,  2.93372507e+00,  8.60674276e+00],\n",
              "       [ 1.00000000e+00, -4.92081426e-02,  2.42144130e-03],\n",
              "       [ 1.00000000e+00,  1.63917396e+00,  2.68689127e+00],\n",
              "       [ 1.00000000e+00,  9.67035186e-01,  9.35157050e-01],\n",
              "       [ 1.00000000e+00, -2.42541074e+00,  5.88261725e+00],\n",
              "       [ 1.00000000e+00,  8.94785286e-01,  8.00640708e-01],\n",
              "       [ 1.00000000e+00, -2.36788368e+00,  5.60687313e+00],\n",
              "       [ 1.00000000e+00, -2.12842779e-01,  4.53020484e-02],\n",
              "       [ 1.00000000e+00,  2.84752029e+00,  8.10837180e+00],\n",
              "       [ 1.00000000e+00,  8.51061903e-01,  7.24306363e-01],\n",
              "       [ 1.00000000e+00,  2.99075800e+00,  8.94463341e+00],\n",
              "       [ 1.00000000e+00,  3.30135469e-01,  1.08989428e-01],\n",
              "       [ 1.00000000e+00,  1.14220526e+00,  1.30463286e+00],\n",
              "       [ 1.00000000e+00, -1.92937846e+00,  3.72250124e+00],\n",
              "       [ 1.00000000e+00, -1.49443964e+00,  2.23334982e+00],\n",
              "       [ 1.00000000e+00, -1.30608932e+00,  1.70586931e+00],\n",
              "       [ 1.00000000e+00, -6.72343458e-01,  4.52045725e-01],\n",
              "       [ 1.00000000e+00, -1.04440936e+00,  1.09079090e+00],\n",
              "       [ 1.00000000e+00,  1.13946713e+00,  1.29838534e+00],\n",
              "       [ 1.00000000e+00,  7.41543787e-01,  5.49887189e-01]])"
            ]
          },
          "metadata": {},
          "execution_count": 23
        }
      ]
    },
    {
      "cell_type": "code",
      "source": [
        "\n",
        "\n",
        "X_test_poly\n",
        "\n"
      ],
      "metadata": {
        "colab": {
          "base_uri": "https://localhost:8080/"
        },
        "id": "wdLwieQAiix6",
        "outputId": "02398b01-106e-4d4e-9add-0e5e0904dea5"
      },
      "execution_count": 24,
      "outputs": [
        {
          "output_type": "execute_result",
          "data": {
            "text/plain": [
              "array([[ 1.        ,  0.89971933,  0.80949487],\n",
              "       [ 1.        , -1.47943138,  2.18871722],\n",
              "       [ 1.        ,  1.9990954 ,  3.99638242],\n",
              "       [ 1.        ,  0.99474411,  0.98951585],\n",
              "       [ 1.        ,  2.72621408,  7.43224322],\n",
              "       [ 1.        ,  2.44682862,  5.98697029],\n",
              "       [ 1.        ,  2.59874191,  6.7534595 ],\n",
              "       [ 1.        ,  1.83848085,  3.38001185],\n",
              "       [ 1.        , -2.76751021,  7.65911278],\n",
              "       [ 1.        ,  2.63579079,  6.94739307],\n",
              "       [ 1.        , -2.71353841,  7.36329071],\n",
              "       [ 1.        , -2.30752765,  5.32468383],\n",
              "       [ 1.        , -0.28497743,  0.08121214],\n",
              "       [ 1.        , -1.04068453,  1.08302429],\n",
              "       [ 1.        ,  1.45443359,  2.11537708],\n",
              "       [ 1.        ,  2.83197379,  8.02007557],\n",
              "       [ 1.        ,  1.01117296,  1.02247075],\n",
              "       [ 1.        ,  2.91520123,  8.4983982 ],\n",
              "       [ 1.        , -2.19523947,  4.81907632],\n",
              "       [ 1.        , -0.40257061,  0.1620631 ]])"
            ]
          },
          "metadata": {},
          "execution_count": 24
        }
      ]
    },
    {
      "cell_type": "code",
      "source": [
        "from sklearn.metrics import r2_score\n",
        "regression = LinearRegression()\n",
        "regression.fit(X_train_poly, y_train)\n",
        "y_pred = regression.predict(X_test_poly)\n",
        "score=r2_score(y_test,y_pred)\n",
        "print(score)"
      ],
      "metadata": {
        "colab": {
          "base_uri": "https://localhost:8080/"
        },
        "id": "uUAJjGEbimIO",
        "outputId": "fa00fbd0-545e-47f2-8e5d-ae8efd61419e"
      },
      "execution_count": 25,
      "outputs": [
        {
          "output_type": "stream",
          "name": "stdout",
          "text": [
            "0.861998722197274\n"
          ]
        }
      ]
    },
    {
      "cell_type": "code",
      "source": [
        "print(regression.coef_)"
      ],
      "metadata": {
        "colab": {
          "base_uri": "https://localhost:8080/"
        },
        "id": "xNyW8E9Wiph4",
        "outputId": "d1ee16ad-5fd6-4dc3-bd1a-c2b21cc732ab"
      },
      "execution_count": 26,
      "outputs": [
        {
          "output_type": "stream",
          "name": "stdout",
          "text": [
            "[[0.         1.39903304 0.50178816]]\n"
          ]
        }
      ]
    },
    {
      "cell_type": "code",
      "source": [
        "\n",
        "\n",
        "print(regression.intercept_)\n",
        "\n"
      ],
      "metadata": {
        "colab": {
          "base_uri": "https://localhost:8080/"
        },
        "id": "uI6FJeULit-9",
        "outputId": "a627043f-7261-4c96-9f80-2ce6012de0c6"
      },
      "execution_count": 28,
      "outputs": [
        {
          "output_type": "stream",
          "name": "stdout",
          "text": [
            "[1.98732149]\n"
          ]
        }
      ]
    },
    {
      "cell_type": "code",
      "source": [
        "plt.scatter(X_train,regression.predict(X_train_poly))\n",
        "plt.scatter(X_train,y_train)"
      ],
      "metadata": {
        "colab": {
          "base_uri": "https://localhost:8080/",
          "height": 447
        },
        "id": "CC1jBeW8iyEV",
        "outputId": "db0af909-ae6b-4c01-c815-4821116fdb85"
      },
      "execution_count": 29,
      "outputs": [
        {
          "output_type": "execute_result",
          "data": {
            "text/plain": [
              "<matplotlib.collections.PathCollection at 0x7e7229a33100>"
            ]
          },
          "metadata": {},
          "execution_count": 29
        },
        {
          "output_type": "display_data",
          "data": {
            "text/plain": [
              "<Figure size 640x480 with 1 Axes>"
            ],
            "image/png": "[encoded data removed]"
          },
          "metadata": {}
        }
      ]
    },
    {
      "cell_type": "code",
      "source": [
        "\n",
        "\n",
        "poly=PolynomialFeatures(degree=3,include_bias=True)\n",
        "X_train_poly=poly.fit_transform(X_train)\n",
        "X_test_poly=poly.transform(X_test)\n",
        "\n"
      ],
      "metadata": {
        "id": "DhHofciGi3L-"
      },
      "execution_count": 30,
      "outputs": []
    },
    {
      "cell_type": "code",
      "source": [
        "X_train_poly"
      ],
      "metadata": {
        "colab": {
          "base_uri": "https://localhost:8080/"
        },
        "id": "F6MfziHfi-iw",
        "outputId": "a7e7a72a-f04d-4f66-eb34-42d07b294476"
      },
      "execution_count": 31,
      "outputs": [
        {
          "output_type": "execute_result",
          "data": {
            "text/plain": [
              "array([[ 1.00000000e+00, -2.47987777e+00,  6.14979375e+00,\n",
              "        -1.52507368e+01],\n",
              "       [ 1.00000000e+00,  1.81690196e+00,  3.30113274e+00,\n",
              "         5.99783455e+00],\n",
              "       [ 1.00000000e+00,  9.91300278e-01,  9.82676241e-01,\n",
              "         9.74127231e-01],\n",
              "       [ 1.00000000e+00,  7.96937704e-01,  6.35109704e-01,\n",
              "         5.06142869e-01],\n",
              "       [ 1.00000000e+00,  1.14007838e+00,  1.29977871e+00,\n",
              "         1.48184961e+00],\n",
              "       [ 1.00000000e+00, -1.91297661e+00,  3.65947949e+00,\n",
              "        -7.00049866e+00],\n",
              "       [ 1.00000000e+00, -2.74715196e+00,  7.54684388e+00,\n",
              "        -2.07323269e+01],\n",
              "       [ 1.00000000e+00,  1.23143509e+00,  1.51643239e+00,\n",
              "         1.86738807e+00],\n",
              "       [ 1.00000000e+00, -1.67334389e+00,  2.80007977e+00,\n",
              "        -4.68549636e+00],\n",
              "       [ 1.00000000e+00, -1.59360682e+00,  2.53958269e+00,\n",
              "        -4.04709628e+00],\n",
              "       [ 1.00000000e+00,  1.88006792e+00,  3.53465537e+00,\n",
              "         6.64539216e+00],\n",
              "       [ 1.00000000e+00, -1.75386028e+00,  3.07602587e+00,\n",
              "        -5.39491959e+00],\n",
              "       [ 1.00000000e+00, -2.30373090e+00,  5.30717605e+00,\n",
              "        -1.22263054e+01],\n",
              "       [ 1.00000000e+00, -1.95850494e+00,  3.83574159e+00,\n",
              "        -7.51231885e+00],\n",
              "       [ 1.00000000e+00,  2.69796729e-01,  7.27902751e-02,\n",
              "         1.96385782e-02],\n",
              "       [ 1.00000000e+00, -2.74026944e+00,  7.50907662e+00,\n",
              "        -2.05768932e+01],\n",
              "       [ 1.00000000e+00,  7.96837363e-01,  6.34949783e-01,\n",
              "         5.05951710e-01],\n",
              "       [ 1.00000000e+00,  3.91492769e-01,  1.53266588e-01,\n",
              "         6.00027611e-02],\n",
              "       [ 1.00000000e+00,  2.76083244e+00,  7.62219573e+00,\n",
              "         2.10436052e+01],\n",
              "       [ 1.00000000e+00, -2.00762278e+00,  4.03054922e+00,\n",
              "        -8.09182244e+00],\n",
              "       [ 1.00000000e+00,  2.84869761e+00,  8.11507809e+00,\n",
              "         2.31174036e+01],\n",
              "       [ 1.00000000e+00,  2.20212545e+00,  4.84935651e+00,\n",
              "         1.06788914e+01],\n",
              "       [ 1.00000000e+00,  5.91509948e-01,  3.49884019e-01,\n",
              "         2.06959878e-01],\n",
              "       [ 1.00000000e+00, -1.69366787e+00,  2.86851084e+00,\n",
              "        -4.85830463e+00],\n",
              "       [ 1.00000000e+00,  2.39544671e+00,  5.73816495e+00,\n",
              "         1.37454684e+01],\n",
              "       [ 1.00000000e+00,  1.43473778e+00,  2.05847249e+00,\n",
              "         2.95336825e+00],\n",
              "       [ 1.00000000e+00,  2.53461849e+00,  6.42429091e+00,\n",
              "         1.62831266e+01],\n",
              "       [ 1.00000000e+00, -4.98448628e-01,  2.48451034e-01,\n",
              "        -1.23840077e-01],\n",
              "       [ 1.00000000e+00,  2.52890727e+00,  6.39537198e+00,\n",
              "         1.61733027e+01],\n",
              "       [ 1.00000000e+00, -1.82175949e+00,  3.31880764e+00,\n",
              "        -6.04606932e+00],\n",
              "       [ 1.00000000e+00, -2.30564738e-01,  5.31600984e-02,\n",
              "        -1.22568441e-02],\n",
              "       [ 1.00000000e+00, -2.82431002e+00,  7.97672707e+00,\n",
              "        -2.25287501e+01],\n",
              "       [ 1.00000000e+00,  5.73788359e-01,  3.29233081e-01,\n",
              "         1.88910109e-01],\n",
              "       [ 1.00000000e+00, -9.07230268e-02,  8.23066758e-03,\n",
              "        -7.46711075e-04],\n",
              "       [ 1.00000000e+00, -4.26026877e-01,  1.81498900e-01,\n",
              "        -7.73234093e-02],\n",
              "       [ 1.00000000e+00,  1.57798332e+00,  2.49003136e+00,\n",
              "         3.92922796e+00],\n",
              "       [ 1.00000000e+00,  4.96291736e-01,  2.46305487e-01,\n",
              "         1.22239378e-01],\n",
              "       [ 1.00000000e+00, -2.39502233e+00,  5.73613195e+00,\n",
              "        -1.37381641e+01],\n",
              "       [ 1.00000000e+00, -1.15716430e+00,  1.33902921e+00,\n",
              "        -1.54947679e+00],\n",
              "       [ 1.00000000e+00,  2.16816190e+00,  4.70092603e+00,\n",
              "         1.01923687e+01],\n",
              "       [ 1.00000000e+00, -1.49419140e+00,  2.23260794e+00,\n",
              "        -3.33594358e+00],\n",
              "       [ 1.00000000e+00,  1.26068786e+00,  1.58933389e+00,\n",
              "         2.00365395e+00],\n",
              "       [ 1.00000000e+00, -2.11653106e-01,  4.47970371e-02,\n",
              "        -9.48143204e-03],\n",
              "       [ 1.00000000e+00,  1.41648385e+00,  2.00642649e+00,\n",
              "         2.84207072e+00],\n",
              "       [ 1.00000000e+00,  1.34201540e+00,  1.80100533e+00,\n",
              "         2.41697688e+00],\n",
              "       [ 1.00000000e+00, -3.63019883e-01,  1.31783435e-01,\n",
              "        -4.78400072e-02],\n",
              "       [ 1.00000000e+00, -1.16704765e+00,  1.36200021e+00,\n",
              "        -1.58951914e+00],\n",
              "       [ 1.00000000e+00,  2.95282515e+00,  8.71917634e+00,\n",
              "         2.57462032e+01],\n",
              "       [ 1.00000000e+00,  1.86704077e-01,  3.48584125e-02,\n",
              "         6.50820775e-03],\n",
              "       [ 1.00000000e+00,  5.06925320e-01,  2.56973280e-01,\n",
              "         1.30266262e-01],\n",
              "       [ 1.00000000e+00, -2.47378792e+00,  6.11962665e+00,\n",
              "        -1.51386585e+01],\n",
              "       [ 1.00000000e+00, -1.86374969e+00,  3.47356290e+00,\n",
              "        -6.47385178e+00],\n",
              "       [ 1.00000000e+00, -2.91227576e+00,  8.48135008e+00,\n",
              "        -2.47000302e+01],\n",
              "       [ 1.00000000e+00,  1.99657290e+00,  3.98630334e+00,\n",
              "         7.95894520e+00],\n",
              "       [ 1.00000000e+00,  1.67218989e+00,  2.79621903e+00,\n",
              "         4.67580918e+00],\n",
              "       [ 1.00000000e+00,  1.38245914e+00,  1.91119329e+00,\n",
              "         2.64214664e+00],\n",
              "       [ 1.00000000e+00,  2.56055045e+00,  6.55641862e+00,\n",
              "         1.67880407e+01],\n",
              "       [ 1.00000000e+00,  9.88236488e-02,  9.76611357e-03,\n",
              "         9.65122978e-04],\n",
              "       [ 1.00000000e+00, -1.48465291e+00,  2.20419426e+00,\n",
              "        -3.27246341e+00],\n",
              "       [ 1.00000000e+00, -1.01060870e+00,  1.02132994e+00,\n",
              "        -1.03216492e+00],\n",
              "       [ 1.00000000e+00,  2.93372507e+00,  8.60674276e+00,\n",
              "         2.52498170e+01],\n",
              "       [ 1.00000000e+00, -4.92081426e-02,  2.42144130e-03,\n",
              "        -1.19154629e-04],\n",
              "       [ 1.00000000e+00,  1.63917396e+00,  2.68689127e+00,\n",
              "         4.40428221e+00],\n",
              "       [ 1.00000000e+00,  9.67035186e-01,  9.35157050e-01,\n",
              "         9.04329772e-01],\n",
              "       [ 1.00000000e+00, -2.42541074e+00,  5.88261725e+00,\n",
              "        -1.42677631e+01],\n",
              "       [ 1.00000000e+00,  8.94785286e-01,  8.00640708e-01,\n",
              "         7.16401525e-01],\n",
              "       [ 1.00000000e+00, -2.36788368e+00,  5.60687313e+00,\n",
              "        -1.32764234e+01],\n",
              "       [ 1.00000000e+00, -2.12842779e-01,  4.53020484e-02,\n",
              "        -9.64221387e-03],\n",
              "       [ 1.00000000e+00,  2.84752029e+00,  8.10837180e+00,\n",
              "         2.30887532e+01],\n",
              "       [ 1.00000000e+00,  8.51061903e-01,  7.24306363e-01,\n",
              "         6.16429552e-01],\n",
              "       [ 1.00000000e+00,  2.99075800e+00,  8.94463341e+00,\n",
              "         2.67512339e+01],\n",
              "       [ 1.00000000e+00,  3.30135469e-01,  1.08989428e-01,\n",
              "         3.59812759e-02],\n",
              "       [ 1.00000000e+00,  1.14220526e+00,  1.30463286e+00,\n",
              "         1.49015852e+00],\n",
              "       [ 1.00000000e+00, -1.92937846e+00,  3.72250124e+00,\n",
              "        -7.18211371e+00],\n",
              "       [ 1.00000000e+00, -1.49443964e+00,  2.23334982e+00,\n",
              "        -3.33760649e+00],\n",
              "       [ 1.00000000e+00, -1.30608932e+00,  1.70586931e+00,\n",
              "        -2.22801768e+00],\n",
              "       [ 1.00000000e+00, -6.72343458e-01,  4.52045725e-01,\n",
              "        -3.03929986e-01],\n",
              "       [ 1.00000000e+00, -1.04440936e+00,  1.09079090e+00,\n",
              "        -1.13923223e+00],\n",
              "       [ 1.00000000e+00,  1.13946713e+00,  1.29838534e+00,\n",
              "         1.47946742e+00],\n",
              "       [ 1.00000000e+00,  7.41543787e-01,  5.49887189e-01,\n",
              "         4.07765429e-01]])"
            ]
          },
          "metadata": {},
          "execution_count": 31
        }
      ]
    },
    {
      "cell_type": "code",
      "source": [
        "\n",
        "\n",
        "from sklearn.metrics import r2_score\n",
        "regression = LinearRegression()\n",
        "regression.fit(X_train_poly, y_train)\n",
        "y_pred = regression.predict(X_test_poly)\n",
        "score=r2_score(y_test,y_pred)\n",
        "print(score)\n",
        "\n"
      ],
      "metadata": {
        "colab": {
          "base_uri": "https://localhost:8080/"
        },
        "id": "bXM_lkH9jAv-",
        "outputId": "a810b716-5658-43eb-96b8-ad67fae4e4e1"
      },
      "execution_count": 32,
      "outputs": [
        {
          "output_type": "stream",
          "name": "stdout",
          "text": [
            "0.8615541649412992\n"
          ]
        }
      ]
    },
    {
      "cell_type": "code",
      "source": [
        "\n",
        "\n",
        "#3 Prediction of new data set\n",
        "X_new = np.linspace(-3, 3, 200).reshape(200, 1)\n",
        "X_new_poly = poly.transform(X_new)\n",
        "X_new_poly\n",
        "\n"
      ],
      "metadata": {
        "colab": {
          "base_uri": "https://localhost:8080/"
        },
        "id": "rduSL6QtjEE_",
        "outputId": "dd80582f-3998-4bd6-c5f1-09fd7c5fdedd"
      },
      "execution_count": 33,
      "outputs": [
        {
          "output_type": "execute_result",
          "data": {
            "text/plain": [
              "array([[ 1.00000000e+00, -3.00000000e+00,  9.00000000e+00,\n",
              "        -2.70000000e+01],\n",
              "       [ 1.00000000e+00, -2.96984925e+00,  8.82000455e+00,\n",
              "        -2.61940839e+01],\n",
              "       [ 1.00000000e+00, -2.93969849e+00,  8.64182723e+00,\n",
              "        -2.54043665e+01],\n",
              "       [ 1.00000000e+00, -2.90954774e+00,  8.46546804e+00,\n",
              "        -2.46306834e+01],\n",
              "       [ 1.00000000e+00, -2.87939698e+00,  8.29092700e+00,\n",
              "        -2.38728702e+01],\n",
              "       [ 1.00000000e+00, -2.84924623e+00,  8.11820409e+00,\n",
              "        -2.31307624e+01],\n",
              "       [ 1.00000000e+00, -2.81909548e+00,  7.94729931e+00,\n",
              "        -2.24041955e+01],\n",
              "       [ 1.00000000e+00, -2.78894472e+00,  7.77821267e+00,\n",
              "        -2.16930052e+01],\n",
              "       [ 1.00000000e+00, -2.75879397e+00,  7.61094417e+00,\n",
              "        -2.09970269e+01],\n",
              "       [ 1.00000000e+00, -2.72864322e+00,  7.44549380e+00,\n",
              "        -2.03160961e+01],\n",
              "       [ 1.00000000e+00, -2.69849246e+00,  7.28186157e+00,\n",
              "        -1.96500486e+01],\n",
              "       [ 1.00000000e+00, -2.66834171e+00,  7.12004747e+00,\n",
              "        -1.89987196e+01],\n",
              "       [ 1.00000000e+00, -2.63819095e+00,  6.96005151e+00,\n",
              "        -1.83619449e+01],\n",
              "       [ 1.00000000e+00, -2.60804020e+00,  6.80187369e+00,\n",
              "        -1.77395600e+01],\n",
              "       [ 1.00000000e+00, -2.57788945e+00,  6.64551400e+00,\n",
              "        -1.71314004e+01],\n",
              "       [ 1.00000000e+00, -2.54773869e+00,  6.49097245e+00,\n",
              "        -1.65373017e+01],\n",
              "       [ 1.00000000e+00, -2.51758794e+00,  6.33824903e+00,\n",
              "        -1.59570993e+01],\n",
              "       [ 1.00000000e+00, -2.48743719e+00,  6.18734375e+00,\n",
              "        -1.53906289e+01],\n",
              "       [ 1.00000000e+00, -2.45728643e+00,  6.03825661e+00,\n",
              "        -1.48377260e+01],\n",
              "       [ 1.00000000e+00, -2.42713568e+00,  5.89098760e+00,\n",
              "        -1.42982262e+01],\n",
              "       [ 1.00000000e+00, -2.39698492e+00,  5.74553673e+00,\n",
              "        -1.37719649e+01],\n",
              "       [ 1.00000000e+00, -2.36683417e+00,  5.60190399e+00,\n",
              "        -1.32587778e+01],\n",
              "       [ 1.00000000e+00, -2.33668342e+00,  5.46008939e+00,\n",
              "        -1.27585003e+01],\n",
              "       [ 1.00000000e+00, -2.30653266e+00,  5.32009293e+00,\n",
              "        -1.22709681e+01],\n",
              "       [ 1.00000000e+00, -2.27638191e+00,  5.18191460e+00,\n",
              "        -1.17960166e+01],\n",
              "       [ 1.00000000e+00, -2.24623116e+00,  5.04555441e+00,\n",
              "        -1.13334815e+01],\n",
              "       [ 1.00000000e+00, -2.21608040e+00,  4.91101235e+00,\n",
              "        -1.08831982e+01],\n",
              "       [ 1.00000000e+00, -2.18592965e+00,  4.77828843e+00,\n",
              "        -1.04450023e+01],\n",
              "       [ 1.00000000e+00, -2.15577889e+00,  4.64738264e+00,\n",
              "        -1.00187294e+01],\n",
              "       [ 1.00000000e+00, -2.12562814e+00,  4.51829499e+00,\n",
              "        -9.60421498e+00],\n",
              "       [ 1.00000000e+00, -2.09547739e+00,  4.39102548e+00,\n",
              "        -9.20129460e+00],\n",
              "       [ 1.00000000e+00, -2.06532663e+00,  4.26557410e+00,\n",
              "        -8.80980380e+00],\n",
              "       [ 1.00000000e+00, -2.03517588e+00,  4.14194086e+00,\n",
              "        -8.42957813e+00],\n",
              "       [ 1.00000000e+00, -2.00502513e+00,  4.02012575e+00,\n",
              "        -8.06045315e+00],\n",
              "       [ 1.00000000e+00, -1.97487437e+00,  3.90012878e+00,\n",
              "        -7.70226438e+00],\n",
              "       [ 1.00000000e+00, -1.94472362e+00,  3.78194995e+00,\n",
              "        -7.35484739e+00],\n",
              "       [ 1.00000000e+00, -1.91457286e+00,  3.66558925e+00,\n",
              "        -7.01803772e+00],\n",
              "       [ 1.00000000e+00, -1.88442211e+00,  3.55104669e+00,\n",
              "        -6.69167090e+00],\n",
              "       [ 1.00000000e+00, -1.85427136e+00,  3.43832226e+00,\n",
              "        -6.37558249e+00],\n",
              "       [ 1.00000000e+00, -1.82412060e+00,  3.32741597e+00,\n",
              "        -6.06960803e+00],\n",
              "       [ 1.00000000e+00, -1.79396985e+00,  3.21832782e+00,\n",
              "        -5.77358307e+00],\n",
              "       [ 1.00000000e+00, -1.76381910e+00,  3.11105780e+00,\n",
              "        -5.48734316e+00],\n",
              "       [ 1.00000000e+00, -1.73366834e+00,  3.00560592e+00,\n",
              "        -5.21072383e+00],\n",
              "       [ 1.00000000e+00, -1.70351759e+00,  2.90197217e+00,\n",
              "        -4.94356064e+00],\n",
              "       [ 1.00000000e+00, -1.67336683e+00,  2.80015656e+00,\n",
              "        -4.68568912e+00],\n",
              "       [ 1.00000000e+00, -1.64321608e+00,  2.70015909e+00,\n",
              "        -4.43694483e+00],\n",
              "       [ 1.00000000e+00, -1.61306533e+00,  2.60197975e+00,\n",
              "        -4.19716331e+00],\n",
              "       [ 1.00000000e+00, -1.58291457e+00,  2.50561854e+00,\n",
              "        -3.96618011e+00],\n",
              "       [ 1.00000000e+00, -1.55276382e+00,  2.41107548e+00,\n",
              "        -3.74383077e+00],\n",
              "       [ 1.00000000e+00, -1.52261307e+00,  2.31835055e+00,\n",
              "        -3.52995083e+00],\n",
              "       [ 1.00000000e+00, -1.49246231e+00,  2.22744375e+00,\n",
              "        -3.32437585e+00],\n",
              "       [ 1.00000000e+00, -1.46231156e+00,  2.13835509e+00,\n",
              "        -3.12694137e+00],\n",
              "       [ 1.00000000e+00, -1.43216080e+00,  2.05108457e+00,\n",
              "        -2.93748292e+00],\n",
              "       [ 1.00000000e+00, -1.40201005e+00,  1.96563218e+00,\n",
              "        -2.75583607e+00],\n",
              "       [ 1.00000000e+00, -1.37185930e+00,  1.88199793e+00,\n",
              "        -2.58183636e+00],\n",
              "       [ 1.00000000e+00, -1.34170854e+00,  1.80018181e+00,\n",
              "        -2.41531932e+00],\n",
              "       [ 1.00000000e+00, -1.31155779e+00,  1.72018383e+00,\n",
              "        -2.25612051e+00],\n",
              "       [ 1.00000000e+00, -1.28140704e+00,  1.64200399e+00,\n",
              "        -2.10407546e+00],\n",
              "       [ 1.00000000e+00, -1.25125628e+00,  1.56564228e+00,\n",
              "        -1.95901974e+00],\n",
              "       [ 1.00000000e+00, -1.22110553e+00,  1.49109871e+00,\n",
              "        -1.82078888e+00],\n",
              "       [ 1.00000000e+00, -1.19095477e+00,  1.41837327e+00,\n",
              "        -1.68921842e+00],\n",
              "       [ 1.00000000e+00, -1.16080402e+00,  1.34746597e+00,\n",
              "        -1.56414392e+00],\n",
              "       [ 1.00000000e+00, -1.13065327e+00,  1.27837681e+00,\n",
              "        -1.44540091e+00],\n",
              "       [ 1.00000000e+00, -1.10050251e+00,  1.21110578e+00,\n",
              "        -1.33282495e+00],\n",
              "       [ 1.00000000e+00, -1.07035176e+00,  1.14565289e+00,\n",
              "        -1.22625158e+00],\n",
              "       [ 1.00000000e+00, -1.04020101e+00,  1.08201813e+00,\n",
              "        -1.12551635e+00],\n",
              "       [ 1.00000000e+00, -1.01005025e+00,  1.02020151e+00,\n",
              "        -1.03045479e+00],\n",
              "       [ 1.00000000e+00, -9.79899497e-01,  9.60203025e-01,\n",
              "        -9.40902462e-01],\n",
              "       [ 1.00000000e+00, -9.49748744e-01,  9.02022676e-01,\n",
              "        -8.56694904e-01],\n",
              "       [ 1.00000000e+00, -9.19597990e-01,  8.45660463e-01,\n",
              "        -7.77667662e-01],\n",
              "       [ 1.00000000e+00, -8.89447236e-01,  7.91116386e-01,\n",
              "        -7.03656283e-01],\n",
              "       [ 1.00000000e+00, -8.59296482e-01,  7.38390445e-01,\n",
              "        -6.34496312e-01],\n",
              "       [ 1.00000000e+00, -8.29145729e-01,  6.87482639e-01,\n",
              "        -5.70023294e-01],\n",
              "       [ 1.00000000e+00, -7.98994975e-01,  6.38392970e-01,\n",
              "        -5.10072775e-01],\n",
              "       [ 1.00000000e+00, -7.68844221e-01,  5.91121436e-01,\n",
              "        -4.54480300e-01],\n",
              "       [ 1.00000000e+00, -7.38693467e-01,  5.45668039e-01,\n",
              "        -4.03081416e-01],\n",
              "       [ 1.00000000e+00, -7.08542714e-01,  5.02032777e-01,\n",
              "        -3.55711666e-01],\n",
              "       [ 1.00000000e+00, -6.78391960e-01,  4.60215651e-01,\n",
              "        -3.12206597e-01],\n",
              "       [ 1.00000000e+00, -6.48241206e-01,  4.20216661e-01,\n",
              "        -2.72401755e-01],\n",
              "       [ 1.00000000e+00, -6.18090452e-01,  3.82035807e-01,\n",
              "        -2.36132685e-01],\n",
              "       [ 1.00000000e+00, -5.87939698e-01,  3.45673089e-01,\n",
              "        -2.03234932e-01],\n",
              "       [ 1.00000000e+00, -5.57788945e-01,  3.11128507e-01,\n",
              "        -1.73544042e-01],\n",
              "       [ 1.00000000e+00, -5.27638191e-01,  2.78402061e-01,\n",
              "        -1.46895560e-01],\n",
              "       [ 1.00000000e+00, -4.97487437e-01,  2.47493750e-01,\n",
              "        -1.23125031e-01],\n",
              "       [ 1.00000000e+00, -4.67336683e-01,  2.18403576e-01,\n",
              "        -1.02068003e-01],\n",
              "       [ 1.00000000e+00, -4.37185930e-01,  1.91131537e-01,\n",
              "        -8.35600187e-02],\n",
              "       [ 1.00000000e+00, -4.07035176e-01,  1.65677634e-01,\n",
              "        -6.74366251e-02],\n",
              "       [ 1.00000000e+00, -3.76884422e-01,  1.42041868e-01,\n",
              "        -5.35333672e-02],\n",
              "       [ 1.00000000e+00, -3.46733668e-01,  1.20224237e-01,\n",
              "        -4.16857906e-02],\n",
              "       [ 1.00000000e+00, -3.16582915e-01,  1.00224742e-01,\n",
              "        -3.17294409e-02],\n",
              "       [ 1.00000000e+00, -2.86432161e-01,  8.20433827e-02,\n",
              "        -2.34998634e-02],\n",
              "       [ 1.00000000e+00, -2.56281407e-01,  6.56801596e-02,\n",
              "        -1.68326037e-02],\n",
              "       [ 1.00000000e+00, -2.26130653e-01,  5.11350723e-02,\n",
              "        -1.15632073e-02],\n",
              "       [ 1.00000000e+00, -1.95979899e-01,  3.84081210e-02,\n",
              "        -7.52721969e-03],\n",
              "       [ 1.00000000e+00, -1.65829146e-01,  2.74993056e-02,\n",
              "        -4.56018635e-03],\n",
              "       [ 1.00000000e+00, -1.35678392e-01,  1.84086260e-02,\n",
              "        -2.49765278e-03],\n",
              "       [ 1.00000000e+00, -1.05527638e-01,  1.11360824e-02,\n",
              "        -1.17516448e-03],\n",
              "       [ 1.00000000e+00, -7.53768844e-02,  5.68167471e-03,\n",
              "        -4.28266938e-04],\n",
              "       [ 1.00000000e+00, -4.52261307e-02,  2.04540289e-03,\n",
              "        -9.25056585e-05],\n",
              "       [ 1.00000000e+00, -1.50753769e-02,  2.27266988e-04,\n",
              "        -3.42613550e-06],\n",
              "       [ 1.00000000e+00,  1.50753769e-02,  2.27266988e-04,\n",
              "         3.42613550e-06],\n",
              "       [ 1.00000000e+00,  4.52261307e-02,  2.04540289e-03,\n",
              "         9.25056585e-05],\n",
              "       [ 1.00000000e+00,  7.53768844e-02,  5.68167471e-03,\n",
              "         4.28266938e-04],\n",
              "       [ 1.00000000e+00,  1.05527638e-01,  1.11360824e-02,\n",
              "         1.17516448e-03],\n",
              "       [ 1.00000000e+00,  1.35678392e-01,  1.84086260e-02,\n",
              "         2.49765278e-03],\n",
              "       [ 1.00000000e+00,  1.65829146e-01,  2.74993056e-02,\n",
              "         4.56018635e-03],\n",
              "       [ 1.00000000e+00,  1.95979899e-01,  3.84081210e-02,\n",
              "         7.52721969e-03],\n",
              "       [ 1.00000000e+00,  2.26130653e-01,  5.11350723e-02,\n",
              "         1.15632073e-02],\n",
              "       [ 1.00000000e+00,  2.56281407e-01,  6.56801596e-02,\n",
              "         1.68326037e-02],\n",
              "       [ 1.00000000e+00,  2.86432161e-01,  8.20433827e-02,\n",
              "         2.34998634e-02],\n",
              "       [ 1.00000000e+00,  3.16582915e-01,  1.00224742e-01,\n",
              "         3.17294409e-02],\n",
              "       [ 1.00000000e+00,  3.46733668e-01,  1.20224237e-01,\n",
              "         4.16857906e-02],\n",
              "       [ 1.00000000e+00,  3.76884422e-01,  1.42041868e-01,\n",
              "         5.35333672e-02],\n",
              "       [ 1.00000000e+00,  4.07035176e-01,  1.65677634e-01,\n",
              "         6.74366251e-02],\n",
              "       [ 1.00000000e+00,  4.37185930e-01,  1.91131537e-01,\n",
              "         8.35600187e-02],\n",
              "       [ 1.00000000e+00,  4.67336683e-01,  2.18403576e-01,\n",
              "         1.02068003e-01],\n",
              "       [ 1.00000000e+00,  4.97487437e-01,  2.47493750e-01,\n",
              "         1.23125031e-01],\n",
              "       [ 1.00000000e+00,  5.27638191e-01,  2.78402061e-01,\n",
              "         1.46895560e-01],\n",
              "       [ 1.00000000e+00,  5.57788945e-01,  3.11128507e-01,\n",
              "         1.73544042e-01],\n",
              "       [ 1.00000000e+00,  5.87939698e-01,  3.45673089e-01,\n",
              "         2.03234932e-01],\n",
              "       [ 1.00000000e+00,  6.18090452e-01,  3.82035807e-01,\n",
              "         2.36132685e-01],\n",
              "       [ 1.00000000e+00,  6.48241206e-01,  4.20216661e-01,\n",
              "         2.72401755e-01],\n",
              "       [ 1.00000000e+00,  6.78391960e-01,  4.60215651e-01,\n",
              "         3.12206597e-01],\n",
              "       [ 1.00000000e+00,  7.08542714e-01,  5.02032777e-01,\n",
              "         3.55711666e-01],\n",
              "       [ 1.00000000e+00,  7.38693467e-01,  5.45668039e-01,\n",
              "         4.03081416e-01],\n",
              "       [ 1.00000000e+00,  7.68844221e-01,  5.91121436e-01,\n",
              "         4.54480300e-01],\n",
              "       [ 1.00000000e+00,  7.98994975e-01,  6.38392970e-01,\n",
              "         5.10072775e-01],\n",
              "       [ 1.00000000e+00,  8.29145729e-01,  6.87482639e-01,\n",
              "         5.70023294e-01],\n",
              "       [ 1.00000000e+00,  8.59296482e-01,  7.38390445e-01,\n",
              "         6.34496312e-01],\n",
              "       [ 1.00000000e+00,  8.89447236e-01,  7.91116386e-01,\n",
              "         7.03656283e-01],\n",
              "       [ 1.00000000e+00,  9.19597990e-01,  8.45660463e-01,\n",
              "         7.77667662e-01],\n",
              "       [ 1.00000000e+00,  9.49748744e-01,  9.02022676e-01,\n",
              "         8.56694904e-01],\n",
              "       [ 1.00000000e+00,  9.79899497e-01,  9.60203025e-01,\n",
              "         9.40902462e-01],\n",
              "       [ 1.00000000e+00,  1.01005025e+00,  1.02020151e+00,\n",
              "         1.03045479e+00],\n",
              "       [ 1.00000000e+00,  1.04020101e+00,  1.08201813e+00,\n",
              "         1.12551635e+00],\n",
              "       [ 1.00000000e+00,  1.07035176e+00,  1.14565289e+00,\n",
              "         1.22625158e+00],\n",
              "       [ 1.00000000e+00,  1.10050251e+00,  1.21110578e+00,\n",
              "         1.33282495e+00],\n",
              "       [ 1.00000000e+00,  1.13065327e+00,  1.27837681e+00,\n",
              "         1.44540091e+00],\n",
              "       [ 1.00000000e+00,  1.16080402e+00,  1.34746597e+00,\n",
              "         1.56414392e+00],\n",
              "       [ 1.00000000e+00,  1.19095477e+00,  1.41837327e+00,\n",
              "         1.68921842e+00],\n",
              "       [ 1.00000000e+00,  1.22110553e+00,  1.49109871e+00,\n",
              "         1.82078888e+00],\n",
              "       [ 1.00000000e+00,  1.25125628e+00,  1.56564228e+00,\n",
              "         1.95901974e+00],\n",
              "       [ 1.00000000e+00,  1.28140704e+00,  1.64200399e+00,\n",
              "         2.10407546e+00],\n",
              "       [ 1.00000000e+00,  1.31155779e+00,  1.72018383e+00,\n",
              "         2.25612051e+00],\n",
              "       [ 1.00000000e+00,  1.34170854e+00,  1.80018181e+00,\n",
              "         2.41531932e+00],\n",
              "       [ 1.00000000e+00,  1.37185930e+00,  1.88199793e+00,\n",
              "         2.58183636e+00],\n",
              "       [ 1.00000000e+00,  1.40201005e+00,  1.96563218e+00,\n",
              "         2.75583607e+00],\n",
              "       [ 1.00000000e+00,  1.43216080e+00,  2.05108457e+00,\n",
              "         2.93748292e+00],\n",
              "       [ 1.00000000e+00,  1.46231156e+00,  2.13835509e+00,\n",
              "         3.12694137e+00],\n",
              "       [ 1.00000000e+00,  1.49246231e+00,  2.22744375e+00,\n",
              "         3.32437585e+00],\n",
              "       [ 1.00000000e+00,  1.52261307e+00,  2.31835055e+00,\n",
              "         3.52995083e+00],\n",
              "       [ 1.00000000e+00,  1.55276382e+00,  2.41107548e+00,\n",
              "         3.74383077e+00],\n",
              "       [ 1.00000000e+00,  1.58291457e+00,  2.50561854e+00,\n",
              "         3.96618011e+00],\n",
              "       [ 1.00000000e+00,  1.61306533e+00,  2.60197975e+00,\n",
              "         4.19716331e+00],\n",
              "       [ 1.00000000e+00,  1.64321608e+00,  2.70015909e+00,\n",
              "         4.43694483e+00],\n",
              "       [ 1.00000000e+00,  1.67336683e+00,  2.80015656e+00,\n",
              "         4.68568912e+00],\n",
              "       [ 1.00000000e+00,  1.70351759e+00,  2.90197217e+00,\n",
              "         4.94356064e+00],\n",
              "       [ 1.00000000e+00,  1.73366834e+00,  3.00560592e+00,\n",
              "         5.21072383e+00],\n",
              "       [ 1.00000000e+00,  1.76381910e+00,  3.11105780e+00,\n",
              "         5.48734316e+00],\n",
              "       [ 1.00000000e+00,  1.79396985e+00,  3.21832782e+00,\n",
              "         5.77358307e+00],\n",
              "       [ 1.00000000e+00,  1.82412060e+00,  3.32741597e+00,\n",
              "         6.06960803e+00],\n",
              "       [ 1.00000000e+00,  1.85427136e+00,  3.43832226e+00,\n",
              "         6.37558249e+00],\n",
              "       [ 1.00000000e+00,  1.88442211e+00,  3.55104669e+00,\n",
              "         6.69167090e+00],\n",
              "       [ 1.00000000e+00,  1.91457286e+00,  3.66558925e+00,\n",
              "         7.01803772e+00],\n",
              "       [ 1.00000000e+00,  1.94472362e+00,  3.78194995e+00,\n",
              "         7.35484739e+00],\n",
              "       [ 1.00000000e+00,  1.97487437e+00,  3.90012878e+00,\n",
              "         7.70226438e+00],\n",
              "       [ 1.00000000e+00,  2.00502513e+00,  4.02012575e+00,\n",
              "         8.06045315e+00],\n",
              "       [ 1.00000000e+00,  2.03517588e+00,  4.14194086e+00,\n",
              "         8.42957813e+00],\n",
              "       [ 1.00000000e+00,  2.06532663e+00,  4.26557410e+00,\n",
              "         8.80980380e+00],\n",
              "       [ 1.00000000e+00,  2.09547739e+00,  4.39102548e+00,\n",
              "         9.20129460e+00],\n",
              "       [ 1.00000000e+00,  2.12562814e+00,  4.51829499e+00,\n",
              "         9.60421498e+00],\n",
              "       [ 1.00000000e+00,  2.15577889e+00,  4.64738264e+00,\n",
              "         1.00187294e+01],\n",
              "       [ 1.00000000e+00,  2.18592965e+00,  4.77828843e+00,\n",
              "         1.04450023e+01],\n",
              "       [ 1.00000000e+00,  2.21608040e+00,  4.91101235e+00,\n",
              "         1.08831982e+01],\n",
              "       [ 1.00000000e+00,  2.24623116e+00,  5.04555441e+00,\n",
              "         1.13334815e+01],\n",
              "       [ 1.00000000e+00,  2.27638191e+00,  5.18191460e+00,\n",
              "         1.17960166e+01],\n",
              "       [ 1.00000000e+00,  2.30653266e+00,  5.32009293e+00,\n",
              "         1.22709681e+01],\n",
              "       [ 1.00000000e+00,  2.33668342e+00,  5.46008939e+00,\n",
              "         1.27585003e+01],\n",
              "       [ 1.00000000e+00,  2.36683417e+00,  5.60190399e+00,\n",
              "         1.32587778e+01],\n",
              "       [ 1.00000000e+00,  2.39698492e+00,  5.74553673e+00,\n",
              "         1.37719649e+01],\n",
              "       [ 1.00000000e+00,  2.42713568e+00,  5.89098760e+00,\n",
              "         1.42982262e+01],\n",
              "       [ 1.00000000e+00,  2.45728643e+00,  6.03825661e+00,\n",
              "         1.48377260e+01],\n",
              "       [ 1.00000000e+00,  2.48743719e+00,  6.18734375e+00,\n",
              "         1.53906289e+01],\n",
              "       [ 1.00000000e+00,  2.51758794e+00,  6.33824903e+00,\n",
              "         1.59570993e+01],\n",
              "       [ 1.00000000e+00,  2.54773869e+00,  6.49097245e+00,\n",
              "         1.65373017e+01],\n",
              "       [ 1.00000000e+00,  2.57788945e+00,  6.64551400e+00,\n",
              "         1.71314004e+01],\n",
              "       [ 1.00000000e+00,  2.60804020e+00,  6.80187369e+00,\n",
              "         1.77395600e+01],\n",
              "       [ 1.00000000e+00,  2.63819095e+00,  6.96005151e+00,\n",
              "         1.83619449e+01],\n",
              "       [ 1.00000000e+00,  2.66834171e+00,  7.12004747e+00,\n",
              "         1.89987196e+01],\n",
              "       [ 1.00000000e+00,  2.69849246e+00,  7.28186157e+00,\n",
              "         1.96500486e+01],\n",
              "       [ 1.00000000e+00,  2.72864322e+00,  7.44549380e+00,\n",
              "         2.03160961e+01],\n",
              "       [ 1.00000000e+00,  2.75879397e+00,  7.61094417e+00,\n",
              "         2.09970269e+01],\n",
              "       [ 1.00000000e+00,  2.78894472e+00,  7.77821267e+00,\n",
              "         2.16930052e+01],\n",
              "       [ 1.00000000e+00,  2.81909548e+00,  7.94729931e+00,\n",
              "         2.24041955e+01],\n",
              "       [ 1.00000000e+00,  2.84924623e+00,  8.11820409e+00,\n",
              "         2.31307624e+01],\n",
              "       [ 1.00000000e+00,  2.87939698e+00,  8.29092700e+00,\n",
              "         2.38728702e+01],\n",
              "       [ 1.00000000e+00,  2.90954774e+00,  8.46546804e+00,\n",
              "         2.46306834e+01],\n",
              "       [ 1.00000000e+00,  2.93969849e+00,  8.64182723e+00,\n",
              "         2.54043665e+01],\n",
              "       [ 1.00000000e+00,  2.96984925e+00,  8.82000455e+00,\n",
              "         2.61940839e+01],\n",
              "       [ 1.00000000e+00,  3.00000000e+00,  9.00000000e+00,\n",
              "         2.70000000e+01]])"
            ]
          },
          "metadata": {},
          "execution_count": 33
        }
      ]
    },
    {
      "cell_type": "code",
      "source": [
        "\n",
        "\n",
        "y_new = regression.predict(X_new_poly)\n",
        "plt.plot(X_new, y_new, \"r-\", linewidth=2, label=\" New Predictions\")\n",
        "plt.plot(X_train, y_train, \"b.\",label='Training points')\n",
        "plt.plot(X_test, y_test, \"g.\",label='Testing points')\n",
        "plt.xlabel(\"X\")\n",
        "plt.ylabel(\"y\")\n",
        "plt.legend()\n",
        "plt.show()\n",
        "\n"
      ],
      "metadata": {
        "colab": {
          "base_uri": "https://localhost:8080/",
          "height": 449
        },
        "id": "wC71X5nMjIDG",
        "outputId": "79fff41e-4151-4e62-aea4-67a0fd9982a3"
      },
      "execution_count": 34,
      "outputs": [
        {
          "output_type": "display_data",
          "data": {
            "text/plain": [
              "<Figure size 640x480 with 1 Axes>"
            ],
            "image/png": "[encoded data removed]"
          },
          "metadata": {}
        }
      ]
    },
    {
      "cell_type": "code",
      "source": [
        "\n",
        "\n",
        "from sklearn.pipeline import Pipeline\n",
        "\n"
      ],
      "metadata": {
        "id": "7SxYJjEfjMqY"
      },
      "execution_count": 36,
      "outputs": []
    },
    {
      "cell_type": "code",
      "source": [
        "def poly_regression(degree):\n",
        "    X_new = np.linspace(-3, 3, 200).reshape(200, 1)\n",
        "\n",
        "    poly_features=PolynomialFeatures(degree=degree,include_bias=True)\n",
        "    lin_reg=LinearRegression()\n",
        "    poly_regression=Pipeline([\n",
        "        (\"poly_features\",poly_features),\n",
        "        (\"lin_reg\",lin_reg)\n",
        "    ])\n",
        "    poly_regression.fit(X_train,y_train) ## ploynomial and fit of linear reression\n",
        "    y_pred_new=poly_regression.predict(X_new)\n",
        "    #plotting prediction line\n",
        "    plt.plot(X_new, y_pred_new,'r', label=\"Degree \" + str(degree), linewidth=2)\n",
        "    plt.plot(X_train, y_train, \"b.\", linewidth=3)\n",
        "    plt.plot(X_test, y_test, \"g.\", linewidth=3)\n",
        "    plt.legend(loc=\"upper left\")\n",
        "    plt.xlabel(\"X\")\n",
        "    plt.ylabel(\"y\")\n",
        "    plt.axis([-4,4, 0, 10])\n",
        "    plt.show()"
      ],
      "metadata": {
        "id": "iVaprckejYoE"
      },
      "execution_count": 37,
      "outputs": []
    },
    {
      "cell_type": "code",
      "source": [
        "\n",
        "\n",
        "poly_regression(6)\n",
        "\n"
      ],
      "metadata": {
        "colab": {
          "base_uri": "https://localhost:8080/",
          "height": 455
        },
        "id": "1FZPMfL9jZcH",
        "outputId": "af2a65b5-a86e-4c93-8a9f-3fd7a6848e55"
      },
      "execution_count": 38,
      "outputs": [
        {
          "output_type": "display_data",
          "data": {
            "text/plain": [
              "<Figure size 640x480 with 1 Axes>"
            ],
            "image/png": "[encoded data removed]"
          },
          "metadata": {}
        }
      ]
    },
    {
      "cell_type": "code",
      "source": [],
      "metadata": {
        "id": "xYNCtmd_jcfE"
      },
      "execution_count": null,
      "outputs": []
    }
  ]
}